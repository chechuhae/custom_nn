{
 "cells": [
  {
   "cell_type": "markdown",
   "id": "0bcfb1e0",
   "metadata": {},
   "source": [
    "With the dataset (https://pypi.org/project/python-mnist/)\n",
    "\n",
    "Create custom class with any quantity of layers:\n",
    "\n",
    "Input: any shape \n",
    "\n",
    "Hidden: any quantity, any shape\n",
    "\n",
    "Output: any shape\n",
    "\n",
    "Answer of the model is number from 0 to 9 or nan for pictures whis model could not recognize\n",
    "\n",
    "Loss: you can choose categorical or binary cross entropy\n",
    "\n",
    "Activation functions: sigmoid, tanh, relu, softmax\n",
    "\n",
    "Optimizer: SGD, SGD + momentum, Nesterov, AdaGrad, RMSprop\n",
    "\n",
    "Stack: python, numpy, matplotlib"
   ]
  },
  {
   "cell_type": "code",
   "execution_count": 1,
   "id": "a8687b32",
   "metadata": {
    "ExecuteTime": {
     "end_time": "2022-03-30T13:43:37.286168Z",
     "start_time": "2022-03-30T13:43:35.768168Z"
    }
   },
   "outputs": [],
   "source": [
    "import numpy as np\n",
    "%matplotlib inline \n",
    "from matplotlib import pyplot as plt\n",
    "from numpy import inf"
   ]
  },
  {
   "cell_type": "code",
   "execution_count": 2,
   "id": "915db32c",
   "metadata": {
    "ExecuteTime": {
     "end_time": "2022-03-30T13:43:42.446163Z",
     "start_time": "2022-03-30T13:43:38.087172Z"
    }
   },
   "outputs": [],
   "source": [
    "from mnist import MNIST\n",
    "mndata = MNIST('./mnist/')\n",
    "images, labels = mndata.load_training()"
   ]
  },
  {
   "cell_type": "code",
   "execution_count": 3,
   "id": "4a405596",
   "metadata": {
    "ExecuteTime": {
     "end_time": "2022-03-16T17:06:06.194914Z",
     "start_time": "2022-03-16T17:06:06.162641Z"
    }
   },
   "outputs": [],
   "source": [
    "# i need to limit numbers of data\n",
    "images, labels = images[:1000], labels[:1000]"
   ]
  },
  {
   "cell_type": "markdown",
   "id": "e24357d0",
   "metadata": {},
   "source": [
    "Exceptions"
   ]
  },
  {
   "cell_type": "code",
   "execution_count": 4,
   "id": "682c8229",
   "metadata": {
    "ExecuteTime": {
     "end_time": "2022-03-16T17:06:06.476445Z",
     "start_time": "2022-03-16T17:06:06.453315Z"
    }
   },
   "outputs": [],
   "source": [
    "class SizeError(Exception):\n",
    "    pass\n",
    "\n",
    "class ShapeError(Exception):\n",
    "    pass\n",
    "\n",
    "class ValSizeError(Exception):\n",
    "    pass\n",
    "\n",
    "class LayerSizeError(Exception):\n",
    "    pass\n",
    "\n",
    "class DataShapeError(Exception):\n",
    "    pass\n",
    "\n",
    "class UnknownOptimizerError(Exception):\n",
    "    pass\n",
    "\n",
    "class UnknownActivationFuncError(Exception):\n",
    "    pass\n",
    "\n",
    "class UnknownLossFunction(Exception):\n",
    "    pass\n",
    "\n",
    "class ActivationOutputError(Exception):\n",
    "    pass"
   ]
  },
  {
   "cell_type": "code",
   "execution_count": 5,
   "id": "e8ccfd25",
   "metadata": {
    "ExecuteTime": {
     "end_time": "2022-03-16T17:06:06.866753Z",
     "start_time": "2022-03-16T17:06:06.666447Z"
    }
   },
   "outputs": [],
   "source": [
    "data = np.array(images).astype('float64')\n",
    "labels = np.array(labels)"
   ]
  },
  {
   "cell_type": "code",
   "execution_count": 6,
   "id": "17200211",
   "metadata": {
    "ExecuteTime": {
     "end_time": "2022-03-16T17:06:07.226912Z",
     "start_time": "2022-03-16T17:06:07.173083Z"
    }
   },
   "outputs": [
    {
     "data": {
      "text/plain": [
       "((1000, 784), (1000,))"
      ]
     },
     "execution_count": 6,
     "metadata": {},
     "output_type": "execute_result"
    }
   ],
   "source": [
    "data.shape, labels.shape"
   ]
  },
  {
   "cell_type": "markdown",
   "id": "7c547985",
   "metadata": {},
   "source": [
    "Shape of data set and labels are similar as in preview discription\n",
    "\n",
    "Lets look on first 10 images and try to recognise them with our own eyes"
   ]
  },
  {
   "cell_type": "code",
   "execution_count": 7,
   "id": "a46aa11c",
   "metadata": {
    "ExecuteTime": {
     "end_time": "2022-03-16T17:06:09.830972Z",
     "start_time": "2022-03-16T17:06:07.589544Z"
    }
   },
   "outputs": [
    {
     "data": {
      "image/png": "[encoded data removed]",
      "text/plain": [
       "<Figure size 1152x288 with 10 Axes>"
      ]
     },
     "metadata": {
      "needs_background": "light"
     },
     "output_type": "display_data"
    }
   ],
   "source": [
    "fig = plt.figure(figsize=(16, 4))\n",
    "\n",
    "for el in range(10):\n",
    "                        \n",
    "    fig.add_subplot(2, 5, el+1)\n",
    "    plt.axis('off')\n",
    "    plt.imshow(data[el].reshape(28,28), interpolation='nearest')\n",
    "    plt.title(labels[el])\n",
    "    \n",
    "plt.show()    "
   ]
  },
  {
   "cell_type": "markdown",
   "id": "62b5b944",
   "metadata": {},
   "source": [
    "Easily regnose, so try to teach our machine to see this numbers"
   ]
  },
  {
   "cell_type": "markdown",
   "id": "9628a079",
   "metadata": {},
   "source": [
    "Our labels are number we need to convert them into array with 1 for our label and with zeros for other labels.\n",
    "For 5 it will be [0, 0, 0, 0, 0, 1, 0, 0, 0, 0, 0]. Last 0 for nan value\n",
    "\n",
    "So we need specific class Labler"
   ]
  },
  {
   "cell_type": "code",
   "execution_count": 8,
   "id": "1fa46373",
   "metadata": {
    "ExecuteTime": {
     "end_time": "2022-03-16T17:06:10.377291Z",
     "start_time": "2022-03-16T17:06:10.354292Z"
    }
   },
   "outputs": [],
   "source": [
    "class Labler(object):\n",
    "\n",
    "    def __init__(self):\n",
    "        pass\n",
    "\n",
    "    def fit(self, labels):\n",
    "        \n",
    "        self.classes = np.unique(labels)\n",
    "        return self\n",
    "        \n",
    "    def transform(self, labels):\n",
    "        \n",
    "        zero_list = np.zeros((labels.shape[0], self.classes.shape[0] + 1))\n",
    "\n",
    "        for label, el in zip(labels, range(labels.shape[0])):\n",
    "            zero_list[el][label] = 1\n",
    "              \n",
    "        return zero_list    "
   ]
  },
  {
   "cell_type": "code",
   "execution_count": 9,
   "id": "f25ae72e",
   "metadata": {
    "ExecuteTime": {
     "end_time": "2022-03-16T17:06:10.766977Z",
     "start_time": "2022-03-16T17:06:10.740979Z"
    }
   },
   "outputs": [],
   "source": [
    "labeler = Labler()\n",
    "y = labeler.fit(labels).transform(labels)"
   ]
  },
  {
   "cell_type": "markdown",
   "id": "03dc4456",
   "metadata": {},
   "source": [
    "Now with the help of numpy we invent custom class of NN"
   ]
  },
  {
   "cell_type": "code",
   "execution_count": 10,
   "id": "fdc0c057",
   "metadata": {
    "ExecuteTime": {
     "end_time": "2022-03-16T17:06:11.611459Z",
     "start_time": "2022-03-16T17:06:11.376289Z"
    }
   },
   "outputs": [],
   "source": [
    "class Custom(object):\n",
    "\n",
    "    def __init__(self):\n",
    "        pass\n",
    "    model_with_layer = False\n",
    "    \n",
    "    def validation_split(self, X, y, size=0.3):\n",
    "\n",
    "        if size == None:\n",
    "            raise ValSizeError('You need to input size of validation data')\n",
    "        # specify size of val score in range (0, 1)\n",
    "        elif 1 < size or size < 0:\n",
    "            raise SizeError('Size must be in range (0, 1)')\n",
    "        # check shapes of our input values X and y\n",
    "        elif X.shape[0] != y.shape[0]:\n",
    "            raise ShapeError(\"Shape of your data doesn't fit to each other X = ({0},), y = ({1},)\".format(\n",
    "                X.shape[0], y.shape[0]))\n",
    "        else:\n",
    "            # make mask for spliting our X by indexes on train and val\n",
    "            mask = np.random.rand(len(X)) <= (1 - size)\n",
    "            # train split\n",
    "            X_train = X[mask]\n",
    "            y_train = y[mask]\n",
    "            # shuffle our train_data\n",
    "            shuffler = np.random.permutation(len(X_train))\n",
    "            X_train = X_train[shuffler]\n",
    "            y_train = y_train[shuffler]\n",
    "            # validation split\n",
    "            X_val = X[~mask]\n",
    "            y_val = y[~mask]\n",
    "            # shuffle our validation_data\n",
    "            shuffler = np.random.permutation(len(X_val))\n",
    "            X_val = X_val[shuffler]\n",
    "            y_val = y_val[shuffler]\n",
    "\n",
    "        return X_train, X_val, y_train, y_val\n",
    "\n",
    "    def input_normal(self, X):\n",
    "        # normalization = (p - min) / (max - min)\n",
    "        normalized_data = (X - np.min(X)) / (np.max(X) - np.min(X))\n",
    "        return normalized_data\n",
    "\n",
    "    def relu(self, X):\n",
    "        # relu function\n",
    "        relu = np.maximum(0, X)\n",
    "        return relu\n",
    "\n",
    "    def relu_der(self, X):\n",
    "        # derivative relu function\n",
    "        X[X <= 0] = 0\n",
    "        X[X > 0] = 1\n",
    "        return X\n",
    "\n",
    "    def softmax(self, X):\n",
    "        # softmax function\n",
    "        exps = np.exp(X - X.max())\n",
    "        return exps / np.sum(exps, axis=0)\n",
    "\n",
    "    def softmax_der(self, X):\n",
    "        # derivative softmax function\n",
    "        exps = np.exp(X - X.max())\n",
    "        softmax = exps / np.sum(exps, axis=0)\n",
    "        return softmax * (1 - softmax)\n",
    "\n",
    "    def sigmoid(self, X):\n",
    "        # sigmoid function\n",
    "        sigm = 1 / (1 + np.exp(-X))\n",
    "        return sigm\n",
    "    \n",
    "    def sigmoid_der(self, X):\n",
    "        # derivative sigmoid sunction\n",
    "        return self.sigmoid(X) * (1 - self.sigmoid(X))\n",
    "\n",
    "    def tanh(self, X):\n",
    "        # tanh function\n",
    "        return np.tanh(X)\n",
    "\n",
    "    def tanh_der(self, X):\n",
    "        # derivative tanh function\n",
    "        return 1 - X ** 2\n",
    "\n",
    "    def leaky_relu(self, X):\n",
    "        # leaky relu function\n",
    "        l_relu = np.maximum(0, X)\n",
    "        return l_relu\n",
    "\n",
    "    def leaky_relu_der(self, X):\n",
    "        # derivative leaky relu function\n",
    "        X[X <= 0] = 0.001\n",
    "        X[X > 0] = 1\n",
    "        return X\n",
    "\n",
    "    def layer(self, size=None, activation='relu'):\n",
    "        # for adding specific layer with activation function in model\n",
    "        if not size:\n",
    "            raise LayerSizeError('You should input specific size for layer')\n",
    "        if self.model_with_layer == False:\n",
    "            self.model_with_layer = {'size': [], \n",
    "                                     'activation': []}\n",
    "            self.model_with_layer['size'].append(size)\n",
    "            self.model_with_layer['activation'].append(activation)\n",
    "        else:\n",
    "            self.model_with_layer['size'].append(size)\n",
    "            self.model_with_layer['activation'].append(activation)  \n",
    "        return self\n",
    "\n",
    "    def sgd_opt(self, gradient, lr=0.01):\n",
    "        # SGD optimizer\n",
    "        return  0, lr * gradient\n",
    "    \n",
    "    def sgd_momentum_opt(self, gradient, lr=0.01, gamma=0.9, new_velocity=0):\n",
    "        # SGD with momentum optimizer\n",
    "        new_velocity = gamma * new_velocity + lr * gradient\n",
    "        return 0, new_velocity\n",
    "\n",
    "    def nag_opt(self, gradient, lr=0.01, gamma=0.9, new_velocity=0):\n",
    "        # Nesterov optimizer\n",
    "        old_velocity = new_velocity\n",
    "        new_velocity = gamma * new_velocity + lr * gradient\n",
    "        changer = gamma * (new_velocity - old_velocity ) +  new_velocity\n",
    "        return new_velocity, changer\n",
    "\n",
    "    def adagrad_opt(self, gradient, lr=0.01, grad_sq=0):\n",
    "        # AdaGrad optimizer\n",
    "        grad_sq = grad_sq + gradient ** 2\n",
    "        changer = lr * gradient / ((grad_sq + 1e-7) ** (1/2))\n",
    "        return grad_sq, changer\n",
    "    \n",
    "    def rmsprop_opt(self, gradient, lr=0.01, gamma=0.9, grad_sq=0):\n",
    "        # RMSProp optimizer\n",
    "        grad_sq = grad_sq\n",
    "        grad_sq = gamma * grad_sq + (1 - gamma) * gradient ** 2\n",
    "        changer = lr * gradient / ((grad_sq + 1e-7) ** (1/2))\n",
    "        return grad_sq, changer\n",
    "\n",
    "    def categorical_cross_entropy(self, y_pred, y_true):\n",
    "        # our target looks like [0, 1, 0]\n",
    "        # for example 0 for cat, 1 for dog, 2 for cow, 3 for bat and etc\n",
    "        # prediction looks like [0.1, 0.8, 0.1] so we just multipy them\n",
    "        # and after that get sum() of log we get our entropy \n",
    "        categorization = y_pred * y_true\n",
    "        cat_log = - np.log(categorization)\n",
    "        cat_log[cat_log == -inf] = 0\n",
    "        cat_log[cat_log == inf] = 0\n",
    "        cce = sum(sum(cat_log)) / cat_log.shape[0]\n",
    "        return cce\n",
    "\n",
    "    def binary_cross_entropy(self, y_pred, y_true):\n",
    "        # our target looks like binary class 0 or 1, for example 0 for cat and 1 for dog\n",
    "        shape = y_true.shape[1]\n",
    "        cost = -1 / shape * np.sum(np.multiply(y_true, np.log(y_pred)) + np.multiply((1 - y_true), np.log(1 - y_pred)))\n",
    "        bce = np.squeeze(cost)\n",
    "        return bce\n",
    "\n",
    "    def select_loss(self, y_pred, y_true, loss='binary', output_activation='sigmoid'):\n",
    "        # loss selection function for binary or categorical cross entropy\n",
    "        if loss == 'binary' and output_activation != 'sigmoid':\n",
    "            raise ActivationOutputError('For binary cross entropy prediction should be binary class 0 or 1')\n",
    "        elif loss == 'categorical' and output_activation != 'softmax':\n",
    "            raise ActivationOutputError('For categorical cross entropy prediction should be in shape of unique classes of y_true')\n",
    "        elif loss == 'binary':\n",
    "            return self.binary_cross_entropy(y_pred, y_true)\n",
    "        elif loss == 'categorical':\n",
    "            return self.categorical_cross_entropy(y_pred, y_true)\n",
    "        else:\n",
    "            raise UnknownLossFunction('You shoul input correct loss function')\n",
    "\n",
    "    def init_parametrs(self, nn_size):    \n",
    "        # get shapes for layers\n",
    "        # dict of weights\n",
    "        parametrs = {}\n",
    "        # initialization the weights for each layer\n",
    "        for el in range(len(nn_size) - 1):\n",
    "            # W weight\n",
    "            parametrs['W_' + str(el)] =  np.random.randn(nn_size[el + 1], nn_size[el]) * np.sqrt(1. / nn_size[el + 1])\n",
    "            # b weight\n",
    "            parametrs['b_' + str(el)] =  np.zeros((nn_size[el + 1], 1))\n",
    "            # velocity\n",
    "            parametrs['vel_' + str(el)] = 0\n",
    "        return parametrs\n",
    "\n",
    "    def maxer(self, list_of_values):\n",
    "        # function for converting prediction into labels\n",
    "        max_val = 0\n",
    "        i = 0\n",
    "        for el_1, el_2 in enumerate(list_of_values):\n",
    "            if el_2 > max_val:\n",
    "                max_val = el_2\n",
    "                i = el_1\n",
    "        if i == 10:\n",
    "            return \"nan\"\n",
    "        else:\n",
    "            return i\n",
    "\n",
    "    def fit(self, X, y, epoch=10, gamma=0.9, lr=0.001, val_split=None, optimizer='sgd', loss='binary'):\n",
    "        # function for traing our model\n",
    "        # X - data\n",
    "        # y - labels\n",
    "        # nn_size - size of our nn by layers\n",
    "        # epoch - numberf of epoch for train\n",
    "        # gamma - gamma ratio for nesterov\n",
    "        # val_split - size of validation data\n",
    "        # nesterov - if True then use\n",
    "        if len(X.shape) == 1:\n",
    "            first_shape = X.shape[0]\n",
    "        else:\n",
    "            first_shape = X.shape[1]\n",
    "        self.parametrs = self.init_parametrs([first_shape] + self.model_with_layer['size'])\n",
    "        #split for train with validation data and without\n",
    "        if val_split:\n",
    "            # validation split\n",
    "            X_train, X_val, y_train, y_val = self.validation_split(X, \n",
    "                                                                   y, \n",
    "                                                                   size=val_split)\n",
    "            # lists for plot\n",
    "            loss_tra_end = []\n",
    "            loss_val_end = []\n",
    "            #start train\n",
    "            for el in range(epoch):\n",
    "                \n",
    "                self.train(X_train, y_train, self.parametrs, lr, gamma, optimizer, loss)\n",
    "                self.train_val(X_val, y_val, self.parametrs, loss)\n",
    "                loss_tra_end.append(self.train_loss)\n",
    "                loss_val_end.append(self.val_loss)\n",
    "                # we can print cross entropy score on each epoch\n",
    "                # print('Cross_validation_score_on_train: {0}'.format(self.train_loss),\n",
    "                #      'Cross_validation_score_on_validation: {0}'.format(cce_val))\n",
    "        else:\n",
    "            # for only data train\n",
    "            loss_tra_end = []\n",
    "            for el in range(epoch):\n",
    "                self.train(X, y, self.parametrs, lr, gamma, optimizer)\n",
    "                loss_tra_end.append(self.train_loss)\n",
    "                # print('Cross_validation_score: {0}'.format(self.train_loss))\n",
    "        # plot a graph of cross entropy score on each epoch\n",
    "        fig, ax = plt.subplots(figsize=(16, 6))\n",
    "        ax.grid()\n",
    "        ax.plot(range(epoch), loss_tra_end, label='cross_train_score')\n",
    "        ax.plot(range(epoch), loss_val_end, label='cross_valid_score')\n",
    "        ax.legend()\n",
    "\n",
    "    def activation_layer(self, input_data, activation):\n",
    "\n",
    "        if activation == 'relu':\n",
    "            return self.relu(input_data)\n",
    "        elif activation == 'sigmoid':\n",
    "            return self.sigmoid(input_data)\n",
    "        elif activation == 'softmax':\n",
    "            return self.softmax(input_data)\n",
    "        elif activation == 'lrelu':\n",
    "            return self.leaky_relu(input_data)\n",
    "        elif activation == 'tanh':\n",
    "            return self.tanh(input_data)\n",
    "        else:\n",
    "            raise UnknownActivationFuncError('Inputed activation {0} does not supported'.format(activation))\n",
    "    \n",
    "    def activation_layer_derivative(self, input_data, activation):\n",
    "\n",
    "        if activation == 'relu':\n",
    "            return self.relu_der(input_data)\n",
    "        elif activation == 'sigmoid':\n",
    "            return self.sigmoid_der(input_data)\n",
    "        elif activation == 'softmax':\n",
    "            return self.softmax_der(input_data)\n",
    "        elif activation == 'lrelu':\n",
    "            return self.leaky_relu_der(input_data)\n",
    "        elif activation == 'tanh':\n",
    "            return self.tanh_der(input_data)\n",
    "        else:\n",
    "            raise UnknownActivationFuncError('Inputed activation {0} does not supported'.format(activation))\n",
    "\n",
    "    def optimizer(self, input_data, need_data, lr, gamma, optimizer):\n",
    "        \n",
    "        if optimizer == 'sgd':\n",
    "            return self.sgd_opt(gradient=input_data, lr=lr)\n",
    "        elif optimizer == 'sgd_momentum':\n",
    "            return self.sgd_momentum_opt(gradient=input_data, lr=lr, gamma=gamma, new_velocity=need_data)\n",
    "        elif optimizer == 'nag':\n",
    "            return self.nag_opt(gradient=input_data, lr=lr, gamma=gamma, new_velocity=need_data)\n",
    "        elif optimizer == 'adagrad':\n",
    "            return self.adagrad_opt(gradient=input_data, lr=lr, grad_sq=need_data)\n",
    "        elif optimizer == 'rmsprop':\n",
    "            return self.rmsprop_opt(gradient=input_data, lr=lr, gamma=gamma, grad_sq=need_data)\n",
    "        else:\n",
    "            raise UnknownOptimizerError('Inputed optimizer {0} does not supported'.format(optimizer))\n",
    "\n",
    "    def forward(self, X, parametrs):\n",
    "        # function for forward multipy our weights\n",
    "        # firstly normilize data\n",
    "        X = self.input_normal(X)\n",
    "        size = len(self.model_with_layer['size']) - 1\n",
    "        fun_act = self.model_with_layer['activation']\n",
    "        # forward learning\n",
    "        # first layer\n",
    "        parametrs['l_0'] = parametrs['W_0'] @ X.T + parametrs['b_0']\n",
    "        # activation function\n",
    "        parametrs['l_0_out'] = self.activation_layer(parametrs['l_0'], fun_act[0])\n",
    "        # every next layer\n",
    "        for el in range(size):\n",
    "            # out from previous is input for next parametrs['l_0_out']\n",
    "            parametrs['l_' + str(el + 1)] = parametrs['W_' + str(el + 1)] @ parametrs['l_' + str(el) + '_out'] + parametrs['b_' + str(el + 1)]\n",
    "            # activation function\n",
    "            parametrs['l_' + str(el + 1) + '_out'] = self.activation_layer(parametrs['l_' + str(el + 1)], fun_act[el + 1])\n",
    "        self.parametrs = parametrs\n",
    "        return self\n",
    "\n",
    "    def back(self, y, parametrs):\n",
    "        # function for backprop erron on our weights\n",
    "        size = len(self.model_with_layer['size']) - 1\n",
    "        fun_act = self.model_with_layer['activation']\n",
    "        # error on current layer\n",
    "        number = size\n",
    "        parametrs['y_error_' + str(number)] = y - parametrs['l_' + str(number) + '_out'].T\n",
    "        # gradient on current layer\n",
    "        parametrs['l_grad_' + str(number)] = parametrs['y_error_' + str(number)].T * \\\n",
    "                                                       self.activation_layer_derivative(parametrs['l_' + str(number)], \n",
    "                                                                                        fun_act[number])\n",
    "        number -= 1                                                                                    \n",
    "        for el in range(size - 1):\n",
    "            parametrs['y_error_' + str(number)] = parametrs['l_grad_' + str(number + 1)].T.dot(parametrs['W_' + str(number + 1)])\n",
    "            # gradient on current layer\n",
    "            parametrs['l_grad_' + str(number)] = parametrs['y_error_' + str(number)].T * \\\n",
    "                                                            self.activation_layer_derivative(parametrs['l_' + str(number)], \n",
    "                                                                                            fun_act[number])\n",
    "            number -=  1\n",
    "        parametrs['y_error_0'] = parametrs['l_grad_1'].T.dot(parametrs['W_1'])\n",
    "        parametrs['l_grad_0'] = parametrs['y_error_0'].T * self.activation_layer_derivative(parametrs['l_0'], fun_act[0])\n",
    "        self.parametrs = parametrs\n",
    "        return self\n",
    "\n",
    "    def weight_update(self, X, parametrs, lr, gamma, optimizer):\n",
    "        # function for weight updates with the help of choosen optimizer\n",
    "        size = len(self.model_with_layer['size']) - 1\n",
    "        # error on current layer\n",
    "        number = size\n",
    "        for el in range(size): \n",
    "            # gradient * X                                           \n",
    "            parametrs['delta_' + str(number)] = parametrs['l_grad_' + str(number)] @ parametrs['l_' + str(number - 1)].T       \n",
    "            parametrs['vel_' + str(number)], changer = self.optimizer(input_data=parametrs['delta_' + str(number)], \n",
    "                                                                        need_data=parametrs['vel_' + str(number)], \n",
    "                                                                        lr=lr, \n",
    "                                                                        gamma=gamma, \n",
    "                                                                        optimizer=optimizer)\n",
    "            parametrs['W_' + str(number)] = parametrs['W_' + str(number)] + changer\n",
    "            number -= 1\n",
    "        # gradient * X                                            \n",
    "        parametrs['delta_0'] = parametrs['l_grad_0'] @ X\n",
    "        # optimization\n",
    "        parametrs['vel_0'], changer = self.optimizer(input_data=parametrs['delta_0'], \n",
    "                                                        need_data=parametrs['vel_0'], \n",
    "                                                        lr=lr, \n",
    "                                                        gamma=gamma, \n",
    "                                                        optimizer=optimizer)\n",
    "        parametrs['W_0'] = parametrs['W_0'] + changer\n",
    "        self.parametrs = parametrs\n",
    "        return self\n",
    "\n",
    "    def train(self, X, y, parametrs, lr, gamma, optimizer='sgd', loss='binary'):\n",
    "        \n",
    "        self.forward(X, parametrs)\n",
    "        self.back(y, self.parametrs)\n",
    "        self.weight_update(X, self.parametrs, lr, gamma, optimizer)            \n",
    "        number = len(self.model_with_layer['size']) - 1        \n",
    "        self.parametrs = parametrs\n",
    "        last_activation = self.model_with_layer['activation'][-1]\n",
    "        self.train_loss = self.select_loss(parametrs['l_' + str(number) + '_out'].T, y, loss, last_activation)\n",
    "        return self\n",
    "   \n",
    "    def train_saved_weights(self, X, parametrs):\n",
    "        # normalization of input data\n",
    "        X = self.input_normal(X)\n",
    "        # activation function for train validation data\n",
    "        fun_act = self.model_with_layer['activation']\n",
    "        # first layer with saved 'W' and 'b' weights\n",
    "        parametrs['val_l_0'] = parametrs['W_0'] @ X.T + parametrs['b_0']\n",
    "        # first layer activation out\n",
    "        parametrs['val_l_out_0'] = self.activation_layer((parametrs['val_l_0']), fun_act[0])\n",
    "        # quantity of all nest layers\n",
    "        number = len(fun_act)\n",
    "        for el in range(1, number):\n",
    "            parametrs['val_l_' + str(el)] = parametrs['W_' + str(el)] @ parametrs['val_l_out_' + str(el - 1)] + parametrs['b_' + str(el)]\n",
    "            parametrs['val_l_out_' + str(el)] = self.activation_layer((parametrs['val_l_' + str(el)]), fun_act[el])\n",
    "        output = parametrs['val_l_out_' + str(el)]\n",
    "        return output\n",
    "     \n",
    "    def train_val(self, X, y, parametrs, loss='binary'):\n",
    "        # train validation split on saved weights\n",
    "        output = self.train_saved_weights(X, parametrs)\n",
    "        last_activation = self.model_with_layer['activation'][-1]\n",
    "        self.val_loss = self.select_loss(output.T, y, loss, last_activation)\n",
    "        return self\n",
    "\n",
    "\n",
    "    def predict(self, X):\n",
    "        # function for prediction on trained model with specific weights\n",
    "        if len(X.shape) == 1:\n",
    "            X = X.reshape((1, X.shape[0]))\n",
    "            output = self.train_saved_weights(X, self.parametrs)\n",
    "            maxer_1 = self.maxer(output.T[0])\n",
    "        else:\n",
    "            output = self.train_saved_weights(X, self.parametrs)\n",
    "            maxer_1 = [self.maxer(output.T[el]) for el in range(output.T.shape[0])]\n",
    "        return maxer_1"
   ]
  },
  {
   "cell_type": "code",
   "execution_count": 11,
   "id": "af546a46",
   "metadata": {
    "ExecuteTime": {
     "end_time": "2022-03-16T17:06:12.069326Z",
     "start_time": "2022-03-16T17:06:12.053582Z"
    }
   },
   "outputs": [
    {
     "name": "stderr",
     "output_type": "stream",
     "text": [
      "C:\\Users\\CHECHU~1\\AppData\\Local\\Temp/ipykernel_6208/3424908800.py:142: RuntimeWarning: divide by zero encountered in log\n",
      "  cat_log = - np.log(categorization)\n"
     ]
    },
    {
     "data": {
      "image/png": "[encoded data removed]",
      "text/plain": [
       "<Figure size 1152x432 with 1 Axes>"
      ]
     },
     "metadata": {
      "needs_background": "light"
     },
     "output_type": "display_data"
    }
   ],
   "source": [
    "model = Custom()\n",
    "model.layer(512, 'relu')\n",
    "model.layer(256, 'relu')\n",
    "model.layer(128, 'relu')\n",
    "model.layer(64, 'relu')\n",
    "model.layer(11, 'softmax')\n",
    "model.fit(X=data, y=y, epoch=50, gamma=0.9, lr=0.001, val_split=0.3, optimizer='adagrad', loss='categorical')"
   ]
  },
  {
   "cell_type": "code",
   "execution_count": 12,
   "id": "efb838c5",
   "metadata": {
    "ExecuteTime": {
     "end_time": "2022-03-16T17:06:47.545329Z",
     "start_time": "2022-03-16T17:06:47.532328Z"
    }
   },
   "outputs": [
    {
     "data": {
      "text/plain": [
       "5"
      ]
     },
     "execution_count": 12,
     "metadata": {},
     "output_type": "execute_result"
    }
   ],
   "source": [
    "model.predict(data[0])"
   ]
  },
  {
   "cell_type": "code",
   "execution_count": 13,
   "id": "36ee8df8",
   "metadata": {
    "ExecuteTime": {
     "end_time": "2022-03-16T17:06:50.199593Z",
     "start_time": "2022-03-16T17:06:47.769014Z"
    }
   },
   "outputs": [
    {
     "data": {
      "image/png": "[encoded data removed]",
      "text/plain": [
       "<Figure size 1152x288 with 10 Axes>"
      ]
     },
     "metadata": {
      "needs_background": "light"
     },
     "output_type": "display_data"
    }
   ],
   "source": [
    "number = 10\n",
    "fig = plt.figure(figsize=(16, 4)) #number // 5 * 4))\n",
    "\n",
    "for el in range(number):\n",
    "                        \n",
    "    fig.add_subplot(2, 5, el+1) # number // 5\n",
    "    plt.axis('off')\n",
    "    plt.imshow(data[el].reshape(28,28), interpolation='nearest')\n",
    "    plt.title(model.predict(data[el]))\n",
    "    \n",
    "plt.show() "
   ]
  },
  {
   "cell_type": "markdown",
   "id": "2625615e",
   "metadata": {},
   "source": [
    "Now create custom metric for understandic of accuracy of our model"
   ]
  },
  {
   "cell_type": "code",
   "execution_count": 14,
   "id": "d5c9b5cb",
   "metadata": {},
   "outputs": [],
   "source": [
    "class Metric(object):\n",
    "\n",
    "    def __init__(self):\n",
    "        pass\n",
    "\n",
    "    def accuracy(self, y_pred, y_true):\n",
    "\n",
    "        return sum(y_pred == y_true) / len(y_true)"
   ]
  },
  {
   "cell_type": "code",
   "execution_count": 15,
   "id": "3104fedd",
   "metadata": {},
   "outputs": [
    {
     "data": {
      "text/plain": [
       "0.931"
      ]
     },
     "execution_count": 15,
     "metadata": {},
     "output_type": "execute_result"
    }
   ],
   "source": [
    "metric = Metric()\n",
    "metric.accuracy(model.predict(data), labels)"
   ]
  }
 ],
 "metadata": {
  "kernelspec": {
   "display_name": "Python 3",
   "language": "python",
   "name": "python3"
  },
  "language_info": {
   "codemirror_mode": {
    "name": "ipython",
    "version": 3
   },
   "file_extension": ".py",
   "mimetype": "text/x-python",
   "name": "python",
   "nbconvert_exporter": "python",
   "pygments_lexer": "ipython3",
   "version": "3.8.10"
  },
  "toc": {
   "base_numbering": 1,
   "nav_menu": {},
   "number_sections": true,
   "sideBar": true,
   "skip_h1_title": false,
   "title_cell": "Table of Contents",
   "title_sidebar": "Contents",
   "toc_cell": false,
   "toc_position": {
    "height": "calc(100% - 180px)",
    "left": "10px",
    "top": "150px",
    "width": "165px"
   },
   "toc_section_display": true,
   "toc_window_display": true
  },
  "varInspector": {
   "cols": {
    "lenName": 16,
    "lenType": 16,
    "lenVar": 40
   },
   "kernels_config": {
    "python": {
     "delete_cmd_postfix": "",
     "delete_cmd_prefix": "del ",
     "library": "var_list.py",
     "varRefreshCmd": "print(var_dic_list())"
    },
    "r": {
     "delete_cmd_postfix": ") ",
     "delete_cmd_prefix": "rm(",
     "library": "var_list.r",
     "varRefreshCmd": "cat(var_dic_list()) "
    }
   },
   "position": {
    "height": "230.844px",
    "left": "987px",
    "right": "20px",
    "top": "120px",
    "width": "359px"
   },
   "types_to_exclude": [
    "module",
    "function",
    "builtin_function_or_method",
    "instance",
    "_Feature"
   ],
   "window_display": false
  }
 },
 "nbformat": 4,
 "nbformat_minor": 5
}
